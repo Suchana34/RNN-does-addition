{
  "nbformat": 4,
  "nbformat_minor": 0,
  "metadata": {
    "colab": {
      "name": "RNN.ipynb",
      "provenance": []
    },
    "kernelspec": {
      "name": "python3",
      "display_name": "Python 3"
    }
  },
  "cells": [
    {
      "cell_type": "markdown",
      "metadata": {
        "id": "sPQdHNeseH6-",
        "colab_type": "text"
      },
      "source": [
        "Making My Model Learn Addition"
      ]
    },
    {
      "cell_type": "code",
      "metadata": {
        "id": "RjWi-FWrePZf",
        "colab_type": "code",
        "colab": {}
      },
      "source": [
        "# Introduction\n",
        "\n",
        "import numpy as np\n",
        "from tensorflow.keras.models import Sequential\n",
        "from tensorflow.keras.layers import TimeDistributed,Dense,Dropout,SimpleRNN, RepeatVector\n",
        "from tensorflow.keras.callbacks import EarlyStopping, LambdaCallback\n",
        "\n",
        "from termcolor import colored"
      ],
      "execution_count": 1,
      "outputs": []
    },
    {
      "cell_type": "code",
      "metadata": {
        "id": "u7FPtn93fNCh",
        "colab_type": "code",
        "colab": {
          "base_uri": "https://localhost:8080/",
          "height": 34
        },
        "outputId": "90bc26d9-ca50-4de3-ffe1-a9855b30cf8f"
      },
      "source": [
        "#generate data\n",
        "\n",
        "all_chars = '0123456789+'\n",
        "\n",
        "# convert into one hot encoding vectors and the dimension of the vector will be equal to the length of the string(all_chars)\n",
        "num_features = len(all_chars)\n",
        "print(num_features)"
      ],
      "execution_count": 2,
      "outputs": [
        {
          "output_type": "stream",
          "text": [
            "11\n"
          ],
          "name": "stdout"
        }
      ]
    },
    {
      "cell_type": "code",
      "metadata": {
        "id": "nXD1aAgZh_9u",
        "colab_type": "code",
        "colab": {}
      },
      "source": [
        "# create a dict to tokenize the character into indexes\n",
        "# dict with character values as keys and indexes as values\n",
        "char_to_index = dict((c,i) for i,c in enumerate(all_chars))\n",
        "index_to_char = dict((i,c) for i,c in enumerate(all_chars))"
      ],
      "execution_count": 3,
      "outputs": []
    },
    {
      "cell_type": "code",
      "metadata": {
        "id": "eAP5F4DxjhSz",
        "colab_type": "code",
        "colab": {
          "base_uri": "https://localhost:8080/",
          "height": 34
        },
        "outputId": "4f4b92e4-1a5b-4300-a1bd-0a4d449381c4"
      },
      "source": [
        "# generate a simple data\n",
        "\n",
        "def generate_data():\n",
        "  first = np.random.randint(0,100)\n",
        "  second = np.random.randint(0,100)\n",
        "\n",
        "  example = str(first) + '+' + str(second)\n",
        "  label = str(first+ second)\n",
        "\n",
        "  return example, label\n",
        "\n",
        "generate_data()"
      ],
      "execution_count": 4,
      "outputs": [
        {
          "output_type": "execute_result",
          "data": {
            "text/plain": [
              "('95+52', '147')"
            ]
          },
          "metadata": {
            "tags": []
          },
          "execution_count": 4
        }
      ]
    },
    {
      "cell_type": "code",
      "metadata": {
        "id": "R3lwOkipkdXV",
        "colab_type": "code",
        "colab": {
          "base_uri": "https://localhost:8080/",
          "height": 286
        },
        "outputId": "23dad54c-43c3-4a3c-e7de-5ab32e20cb20"
      },
      "source": [
        "# create the model\n",
        "# rnn helps us to input varied lengths and output varied lengths\n",
        "# our model has 2 simple RNNs one is encoder and the other is the decoder.\n",
        "# rnn models are really difficult to make using manual code but keras does easy for us. Put all the steps into the Sequential class.\n",
        "\n",
        "hidden_units = 128\n",
        "max_time_steps = 5\n",
        "\n",
        "model = Sequential([\n",
        "                    SimpleRNN(hidden_units, input_shape = (None, num_features)),\n",
        "                    RepeatVector(max_time_steps), # to vectorize the output\n",
        "                    SimpleRNN(hidden_units, return_sequences=True),\n",
        "                    # now we want a dense layer with a softmax activation fn because we need the sequence as the output but we will embed the dense\n",
        "                    # layer here with a time distributed layer cause we need to predict for each step the probability scores of each character in the sequence\n",
        "                    TimeDistributed(Dense(num_features, activation='softmax'))\n",
        "])\n",
        "\n",
        "model.compile(\n",
        "    loss = 'categorical_crossentropy',\n",
        "    optimizer = 'adam',\n",
        "    metrics = ['accuracy']\n",
        ")\n",
        "\n",
        "model.summary()"
      ],
      "execution_count": 16,
      "outputs": [
        {
          "output_type": "stream",
          "text": [
            "Model: \"sequential_1\"\n",
            "_________________________________________________________________\n",
            "Layer (type)                 Output Shape              Param #   \n",
            "=================================================================\n",
            "simple_rnn_2 (SimpleRNN)     (None, 128)               17920     \n",
            "_________________________________________________________________\n",
            "repeat_vector_1 (RepeatVecto (None, 5, 128)            0         \n",
            "_________________________________________________________________\n",
            "simple_rnn_3 (SimpleRNN)     (None, 5, 128)            32896     \n",
            "_________________________________________________________________\n",
            "time_distributed_1 (TimeDist (None, 5, 11)             1419      \n",
            "=================================================================\n",
            "Total params: 52,235\n",
            "Trainable params: 52,235\n",
            "Non-trainable params: 0\n",
            "_________________________________________________________________\n"
          ],
          "name": "stdout"
        }
      ]
    },
    {
      "cell_type": "code",
      "metadata": {
        "id": "t9HPFncwspxj",
        "colab_type": "code",
        "colab": {
          "base_uri": "https://localhost:8080/",
          "height": 50
        },
        "outputId": "044e66c3-4a38-419f-e404-f90fc077ee31"
      },
      "source": [
        "# vectorize and devectorize our data\n",
        "def vectorize_data(example, label):\n",
        "  x = np.zeros((max_time_steps, num_features))\n",
        "  y = np.zeros((max_time_steps, num_features))\n",
        "\n",
        "  diff_x = max_time_steps - len(example)\n",
        "  diff_y = max_time_steps - len(label)\n",
        "\n",
        "  for i,c in enumerate(example):\n",
        "    x[i+diff_x, char_to_index[c]] = 1\n",
        "  \n",
        "  for i in range(diff_x):\n",
        "    x[i, char_to_index['0']] = 1\n",
        "\n",
        "    \n",
        "  for i,c in enumerate(label):\n",
        "    y[i+diff_y, char_to_index[c]] = 1\n",
        "  \n",
        "  for i in range(diff_y):\n",
        "    y[i, char_to_index['0']] = 1\n",
        "\n",
        "  return x,y\n",
        "\n",
        "e,l = generate_data()\n",
        "print(e,l)\n",
        "\n",
        "x,y = vectorize_data(e,l)\n",
        "print(x.shape, y.shape)"
      ],
      "execution_count": 6,
      "outputs": [
        {
          "output_type": "stream",
          "text": [
            "45+11 56\n",
            "(5, 11) (5, 11)\n"
          ],
          "name": "stdout"
        }
      ]
    },
    {
      "cell_type": "code",
      "metadata": {
        "id": "jXiBOYp-wT-w",
        "colab_type": "code",
        "colab": {
          "base_uri": "https://localhost:8080/",
          "height": 35
        },
        "outputId": "2efcaacb-76fe-460e-b075-0bdc1bac9fc5"
      },
      "source": [
        "def devectorize_example(example):\n",
        "  result = [index_to_char[np.argmax(vec)] for i,vec in enumerate(example)]\n",
        "  return ''.join(result)\n",
        "\n",
        "devectorize_example(x)"
      ],
      "execution_count": 8,
      "outputs": [
        {
          "output_type": "execute_result",
          "data": {
            "application/vnd.google.colaboratory.intrinsic": {
              "type": "string"
            },
            "text/plain": [
              "'45+11'"
            ]
          },
          "metadata": {
            "tags": []
          },
          "execution_count": 8
        }
      ]
    },
    {
      "cell_type": "code",
      "metadata": {
        "id": "YGSyYOjn_xQ2",
        "colab_type": "code",
        "colab": {
          "base_uri": "https://localhost:8080/",
          "height": 35
        },
        "outputId": "3f1220e0-e88c-4956-b64d-1f4120a0c944"
      },
      "source": [
        "devectorize_example(y)"
      ],
      "execution_count": 9,
      "outputs": [
        {
          "output_type": "execute_result",
          "data": {
            "application/vnd.google.colaboratory.intrinsic": {
              "type": "string"
            },
            "text/plain": [
              "'00056'"
            ]
          },
          "metadata": {
            "tags": []
          },
          "execution_count": 9
        }
      ]
    },
    {
      "cell_type": "code",
      "metadata": {
        "id": "I-jkJq0YAOj9",
        "colab_type": "code",
        "colab": {
          "base_uri": "https://localhost:8080/",
          "height": 118
        },
        "outputId": "8cb124b3-67bf-4d72-fbf8-6df29c1a56ea"
      },
      "source": [
        "# create a dataset to train our model\n",
        "\n",
        "def create_dataset(num_examples = 2000):\n",
        "  x = np.zeros((num_examples, max_time_steps, num_features))\n",
        "  y = np.zeros((num_examples, max_time_steps, num_features))\n",
        "\n",
        "  for i in range(num_examples):\n",
        "    e,l = generate_data()\n",
        "    e_v, l_v = vectorize_data(e,l)\n",
        "    x[i] = e_v\n",
        "    y[i] = l_v\n",
        "\n",
        "  return x,y\n",
        "\n",
        "x,y = create_dataset()\n",
        "print(x.shape, y.shape)\n",
        "#print(x[1])"
      ],
      "execution_count": 35,
      "outputs": [
        {
          "output_type": "stream",
          "text": [
            "(2000, 5, 11) (2000, 5, 11)\n",
            "[[0. 0. 0. 0. 0. 1. 0. 0. 0. 0. 0.]\n",
            " [0. 0. 0. 0. 0. 0. 0. 0. 1. 0. 0.]\n",
            " [0. 0. 0. 0. 0. 0. 0. 0. 0. 0. 1.]\n",
            " [0. 0. 0. 1. 0. 0. 0. 0. 0. 0. 0.]\n",
            " [0. 0. 0. 0. 0. 0. 0. 0. 1. 0. 0.]]\n"
          ],
          "name": "stdout"
        }
      ]
    },
    {
      "cell_type": "code",
      "metadata": {
        "id": "AFMkEO9KCcOe",
        "colab_type": "code",
        "colab": {
          "base_uri": "https://localhost:8080/",
          "height": 35
        },
        "outputId": "ce876e08-bf12-4f46-a99f-2ef9fd3e477f"
      },
      "source": [
        "devectorize_example(x[0])"
      ],
      "execution_count": 12,
      "outputs": [
        {
          "output_type": "execute_result",
          "data": {
            "application/vnd.google.colaboratory.intrinsic": {
              "type": "string"
            },
            "text/plain": [
              "'21+71'"
            ]
          },
          "metadata": {
            "tags": []
          },
          "execution_count": 12
        }
      ]
    },
    {
      "cell_type": "code",
      "metadata": {
        "id": "XrND10HpCkMI",
        "colab_type": "code",
        "colab": {
          "base_uri": "https://localhost:8080/",
          "height": 35
        },
        "outputId": "bd8b1439-9e35-46eb-fc23-e4abfbfe9585"
      },
      "source": [
        "devectorize_example(y[0])"
      ],
      "execution_count": 13,
      "outputs": [
        {
          "output_type": "execute_result",
          "data": {
            "application/vnd.google.colaboratory.intrinsic": {
              "type": "string"
            },
            "text/plain": [
              "'00092'"
            ]
          },
          "metadata": {
            "tags": []
          },
          "execution_count": 13
        }
      ]
    },
    {
      "cell_type": "code",
      "metadata": {
        "id": "Dz69Z-XhCmth",
        "colab_type": "code",
        "colab": {
          "base_uri": "https://localhost:8080/",
          "height": 54
        },
        "outputId": "2f92a0ca-e47a-4407-9a45-e1fd8567ca86"
      },
      "source": [
        "#training the model\n",
        "l_cb = LambdaCallback(\n",
        "    on_epoch_end = lambda e,l: print('{:.2f}'.format(l['val_accuracy']), end = '_')\n",
        ")\n",
        "\n",
        "es_cb = EarlyStopping(\n",
        "    monitor = 'val_loss',\n",
        "    patience = 10\n",
        ")\n",
        "model.fit(x,y, epochs = 500, batch_size = 256, validation_split=0.2, verbose=False, callbacks=[es_cb, l_cb])\n"
      ],
      "execution_count": 36,
      "outputs": [
        {
          "output_type": "stream",
          "text": [
            "0.58_0.60_0.61_0.62_0.63_0.63_0.63_0.64_0.66_0.66_0.67_0.68_0.68_0.70_0.69_0.69_0.71_0.71_0.73_0.72_0.73_0.73_0.74_0.74_0.76_0.72_0.75_0.76_0.75_0.77_0.76_0.76_0.76_0.76_0.77_0.77_0.77_0.77_0.76_0.77_0.78_0.78_0.79_0.79_0.79_0.80_0.80_0.81_0.81_0.81_0.81_0.82_0.82_0.83_0.83_0.83_0.84_0.84_0.85_0.84_0.85_0.85_0.86_0.87_0.86_0.87_0.87_0.86_0.87_0.88_0.87_0.88_0.88_0.87_0.89_0.89_0.88_0.89_0.90_0.89_0.90_0.89_0.90_0.90_0.90_0.89_0.90_0.90_0.91_0.91_0.91_0.91_0.91_0.91_0.91_0.91_0.91_0.91_0.92_0.92_0.92_0.92_0.92_0.92_0.92_0.92_0.93_0.93_0.93_0.93_0.93_0.93_0.93_0.93_0.92_0.92_0.92_0.93_0.93_0.93_0.94_0.94_0.94_0.93_0.94_0.94_0.93_0.94_0.94_0.93_0.94_0.94_0.94_0.94_0.93_0.94_0.94_0.94_0.94_0.94_0.94_0.94_0.94_0.94_0.94_0.94_0.94_0.94_0.94_0.94_0.94_0.94_0.94_0.94_0.94_0.94_0.94_0.94_0.94_0.94_0.94_0.94_0.94_0.94_0.94_0.94_0.94_0.94_0.94_0.94_0.94_0.94_0.94_0.94_0.94_0.94_0.95_0.94_0.94_0.95_0.94_0.94_0.94_0.94_0.94_0.94_0.94_0.95_0.94_0.94_0.94_0.94_0.95_0.94_0.95_0.94_0.94_0.95_0.94_0.94_0.94_0.94_0.94_0.94_0.94_"
          ],
          "name": "stdout"
        },
        {
          "output_type": "execute_result",
          "data": {
            "text/plain": [
              "<tensorflow.python.keras.callbacks.History at 0x7f517db9feb8>"
            ]
          },
          "metadata": {
            "tags": []
          },
          "execution_count": 36
        }
      ]
    },
    {
      "cell_type": "code",
      "metadata": {
        "id": "O_wvu_zYFlWJ",
        "colab_type": "code",
        "colab": {
          "base_uri": "https://localhost:8080/",
          "height": 185
        },
        "outputId": "4bc353cd-2e59-4624-beda-85c52bc10cb7"
      },
      "source": [
        "x_test, y_test = create_dataset(10)\n",
        "\n",
        "preds = model.predict(x_test)\n",
        "\n",
        "for i, pred in enumerate(preds):\n",
        "  y = devectorize_example(y_test[i])\n",
        "  y_hat = devectorize_example(pred)\n",
        "\n",
        "  col = 'green'\n",
        "  if y != y_hat:\n",
        "    color = 'red'\n",
        "  \n",
        "  out = 'input:' + devectorize_example(x_test[i]) + ' out:' + y + ' pred:' + y_hat\n",
        "  print(colored(out,col))\n"
      ],
      "execution_count": 37,
      "outputs": [
        {
          "output_type": "stream",
          "text": [
            "\u001b[32minput:001+6 out:00007 pred:00007\u001b[0m\n",
            "\u001b[32minput:010+3 out:00013 pred:00014\u001b[0m\n",
            "\u001b[32minput:33+29 out:00062 pred:00062\u001b[0m\n",
            "\u001b[32minput:14+48 out:00062 pred:00061\u001b[0m\n",
            "\u001b[32minput:57+54 out:00111 pred:00111\u001b[0m\n",
            "\u001b[32minput:074+8 out:00082 pred:00082\u001b[0m\n",
            "\u001b[32minput:68+34 out:00102 pred:00102\u001b[0m\n",
            "\u001b[32minput:98+69 out:00167 pred:00166\u001b[0m\n",
            "\u001b[32minput:042+8 out:00050 pred:00041\u001b[0m\n",
            "\u001b[32minput:76+16 out:00092 pred:00092\u001b[0m\n"
          ],
          "name": "stdout"
        }
      ]
    },
    {
      "cell_type": "code",
      "metadata": {
        "id": "PhoI0fr7IObz",
        "colab_type": "code",
        "colab": {}
      },
      "source": [
        ""
      ],
      "execution_count": null,
      "outputs": []
    }
  ]
}